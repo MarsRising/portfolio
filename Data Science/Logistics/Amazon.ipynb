{
 "cells": [
  {
   "cell_type": "code",
   "execution_count": 1,
   "id": "fbba20ff-6f76-44ee-996e-53d3a4a19e32",
   "metadata": {},
   "outputs": [],
   "source": [
    "import pandas as pd\n",
    "import numpy as np\n",
    "from pulp import *\n",
    "from scipy.optimize import linprog"
   ]
  },
  {
   "cell_type": "code",
   "execution_count": 2,
   "id": "9a822dfd-54a1-4c0d-9924-796c8c6460a6",
   "metadata": {},
   "outputs": [
    {
     "name": "stdout",
     "output_type": "stream",
     "text": [
      "  City  Current tons  Capacity\n",
      "0  CVG         82800     95650\n",
      "1  AFW         38400     44350\n"
     ]
    }
   ],
   "source": [
    "#import data into df\n",
    "#start with hub and city capacity\n",
    "hub_capacity = pd.read_excel('Amazon_data.xlsx', sheet_name='Hub_Capacity')\n",
    "print(hub_capacity)"
   ]
  },
  {
   "cell_type": "code",
   "execution_count": 3,
   "id": "2b93418d-71f7-47cf-9234-d25a0684cda8",
   "metadata": {},
   "outputs": [
    {
     "name": "stdout",
     "output_type": "stream",
     "text": [
      "             City  Capacity\n",
      "0         Leipzig     85000\n",
      "1       Hyderabad     19000\n",
      "2  San Bernardino     36000\n"
     ]
    }
   ],
   "source": [
    "#focus_capcity\n",
    "focus_capacity = pd.read_excel('Amazon_data.xlsx', sheet_name='Focus_Capacity')\n",
    "print(focus_capacity)"
   ]
  },
  {
   "cell_type": "code",
   "execution_count": 4,
   "id": "8cddba35-2227-4242-b32e-1b95b69c6020",
   "metadata": {},
   "outputs": [
    {
     "name": "stdout",
     "output_type": "stream",
     "text": [
      "              City  Demand\n",
      "0            Paris    6500\n",
      "1          Cologne     640\n",
      "2          Hanover     180\n",
      "3       Bangalore     9100\n",
      "4       Coimbatore     570\n",
      "..             ...     ...\n",
      "60         Houston    3300\n",
      "61     San Antonio    1100\n",
      "62        Richmond     600\n",
      "63  Seattle/Tacoma    2000\n",
      "64         Spokane     260\n",
      "\n",
      "[65 rows x 2 columns]\n"
     ]
    }
   ],
   "source": [
    "#demand\n",
    "demand = pd.read_excel('Amazon_data.xlsx', sheet_name='Demand')\n",
    "print(demand)"
   ]
  },
  {
   "cell_type": "code",
   "execution_count": 5,
   "id": "4ae320df-5921-4b4c-bf53-571fd1e6c569",
   "metadata": {},
   "outputs": [
    {
     "name": "stdout",
     "output_type": "stream",
     "text": [
      "             City  CVG  AFW Leipzig Hyderabad San Bernardino\n",
      "0         Leipzig  1.5    3       3         3              3\n",
      "1       Hyderabad    3    3     1.6         3              3\n",
      "2  San Bernardino  0.5  0.5       3         3              3\n"
     ]
    }
   ],
   "source": [
    "#focus_cost\n",
    "focus_cost = pd.read_excel('Amazon_data.xlsx', sheet_name='Focus_Cost')\n",
    "#fill null values\n",
    "focus_cost=focus_cost.replace(np.nan, '3')\n",
    "print(focus_cost)"
   ]
  },
  {
   "cell_type": "code",
   "execution_count": 6,
   "id": "6d186e03-b9e5-4789-b335-2db43793da6f",
   "metadata": {},
   "outputs": [
    {
     "name": "stdout",
     "output_type": "stream",
     "text": [
      "              City  CVG   AFW Leipzig Hyderabad San Bernardino\n",
      "0            Paris  1.6     3     0.5       1.1              3\n",
      "1          Cologne  1.5     3     0.5       1.0              3\n",
      "2          Hanover  1.5     3     0.5       1.0              3\n",
      "3        Bengaluru    3     3     1.5       0.5              3\n",
      "4       Coimbatore    3     3     1.5       0.5              3\n",
      "..             ...  ...   ...     ...       ...            ...\n",
      "60         Houston  0.5  0.25       3         3            0.5\n",
      "61     San Antonio  0.5  0.25       3         3            0.5\n",
      "62        Richmond  0.5   0.5       3         3            0.7\n",
      "63  Seattle/Tacoma  0.5   0.5       3         3            0.5\n",
      "64         Spokane  0.5   0.5       3         3            0.5\n",
      "\n",
      "[65 rows x 6 columns]\n"
     ]
    }
   ],
   "source": [
    "#Center_cost\n",
    "center_cost = pd.read_excel('Amazon_data.xlsx', sheet_name='Center_Cost')\n",
    "#fill null values\n",
    "center_cost=center_cost.replace(np.nan, '3')\n",
    "print(center_cost)"
   ]
  },
  {
   "cell_type": "code",
   "execution_count": 7,
   "id": "4d64afcc-3ae2-4fa7-9430-b54fd31d0d6f",
   "metadata": {},
   "outputs": [],
   "source": [
    "#cost to numeric\n",
    "focus_cost.iloc[:, 1:] = focus_cost.iloc[:, 1:].apply(pd.to_numeric, errors='coerce')\n",
    "center_cost.iloc[:, 1:] = center_cost.iloc[:, 1:].apply(pd.to_numeric, errors='coerce')"
   ]
  },
  {
   "cell_type": "code",
   "execution_count": 8,
   "id": "9e5f226e-4a47-4e44-8aa3-4aeaa3fb5a64",
   "metadata": {},
   "outputs": [
    {
     "name": "stdout",
     "output_type": "stream",
     "text": [
      "Demand cities: ['paris' 'cologne' 'hanover' 'bengaluru' 'coimbatore' 'delhi' 'mumbai'\n",
      " 'cagliari' 'catania' 'milan' 'rome' 'katowice' 'barcelona' 'madrid'\n",
      " 'castle donington' 'london' 'mobile' 'anchorage' 'fairbanks' 'phoenix'\n",
      " 'los angeles' 'ontario' 'riverside' 'sacramento' 'san francisco'\n",
      " 'stockton' 'denver' 'hartford' 'miami' 'lakeland' 'tampa' 'atlanta'\n",
      " 'honolulu' 'kahului/maui' 'kona' 'chicago' 'fort wayne' 'south bend'\n",
      " 'des moines' 'wichita' 'new orleans' 'baltimore' 'minneapolis'\n",
      " 'kansas city' 'st. louis' 'omaha' 'manchester' 'albuquerque' 'new york'\n",
      " 'charlotte' 'toledo' 'wilmington' 'portland' 'allentown' 'pittsburgh'\n",
      " 'san juan' 'nashville' 'austin' 'dallas' 'houston' 'san antonio'\n",
      " 'richmond' 'seattle/tacoma' 'spokane']\n",
      "Center cost cities: ['paris' 'cologne' 'hanover' 'bengaluru' 'coimbatore' 'delhi' 'mumbai'\n",
      " 'cagliari' 'catania' 'milan' 'rome' 'katowice' 'barcelona' 'madrid'\n",
      " 'castle donington' 'london' 'mobile' 'anchorage' 'fairbanks' 'phoenix'\n",
      " 'los angeles' 'ontario' 'riverside' 'sacramento' 'san francisco'\n",
      " 'stockton' 'denver' 'hartford' 'miami' 'lakeland' 'tampa' 'atlanta'\n",
      " 'honolulu' 'kahului/maui' 'kona' 'chicago' 'fort wayne' 'south bend'\n",
      " 'des moines' 'wichita' 'new orleans' 'baltimore' 'minneapolis'\n",
      " 'kansas city' 'st. louis' 'omaha' 'manchester' 'albuquerque' 'new york'\n",
      " 'charlotte' 'toledo' 'wilmington' 'portland' 'allentown' 'pittsburgh'\n",
      " 'san juan' 'nashville' 'austin' 'dallas' 'houston' 'san antonio'\n",
      " 'richmond' 'seattle/tacoma' 'spokane']\n"
     ]
    }
   ],
   "source": [
    "#mapping dictionary to standardize city names\n",
    "city_mapping = {\n",
    "    'bangalore': 'bengaluru',\n",
    "    'san juan': 'san juan',\n",
    "    'chicago/rockford': 'chicago',\n",
    "    'dallas/fort worth': 'dallas',\n",
    "}\n",
    "# Convert city names to lowercase\n",
    "demand['City'] = demand['City'].str.strip().str.lower()\n",
    "center_cost['City'] = center_cost['City'].str.strip().str.lower()\n",
    "#apply mapping\n",
    "demand['City'] = demand['City'].apply(lambda x: city_mapping.get(x, x))\n",
    "demand = demand[demand['City'] != 'rockford']\n",
    "center_cost['City'] = center_cost['City'].apply(lambda x: city_mapping.get(x, x))\n",
    "\n",
    "\n",
    "# Verify if the names are consistent\n",
    "print(\"Demand cities:\", demand['City'].unique())\n",
    "print(\"Center cost cities:\", center_cost['City'].unique())"
   ]
  },
  {
   "cell_type": "code",
   "execution_count": 9,
   "id": "a670285c-17a3-459a-a34c-46a2ed4cd623",
   "metadata": {},
   "outputs": [
    {
     "name": "stdout",
     "output_type": "stream",
     "text": [
      "All cities from demand are found in center_cost.\n"
     ]
    }
   ],
   "source": [
    "#check if every city in demand exists in center_cost\n",
    "missing_in_center_cost = []\n",
    "for city in demand['City']:\n",
    "    if city not in center_cost['City'].values:\n",
    "        missing_in_center_cost.append(city)\n",
    "\n",
    "if missing_in_center_cost:\n",
    "    print(\"Cities in demand not found in center_cost:\", missing_in_center_cost)\n",
    "else:\n",
    "    print(\"All cities from demand are found in center_cost.\")"
   ]
  },
  {
   "cell_type": "code",
   "execution_count": 10,
   "id": "9e1037a1-e727-4d41-a25c-94f6fd1b4f0b",
   "metadata": {},
   "outputs": [],
   "source": [
    "#Define the problem\n",
    "prob = LpProblem(\"Amazon_Distribution\", LpMinimize)"
   ]
  },
  {
   "cell_type": "code",
   "execution_count": 11,
   "id": "bfc52513-3188-4034-abf7-99a6b02e4dc7",
   "metadata": {},
   "outputs": [],
   "source": [
    "#create dictionaries to store decision variables\n",
    "x = {}  #shipment from hub to focus city\n",
    "y = {}  #shipment from hub to center\n",
    "z = {}  #shipment from focus city to center"
   ]
  },
  {
   "cell_type": "code",
   "execution_count": 12,
   "id": "d6da6b5a-a962-4023-97d1-f73ff07aa486",
   "metadata": {},
   "outputs": [],
   "source": [
    "#define x_ij (hub to focus city)\n",
    "for i in hub_capacity['City']:\n",
    "    for j in focus_capacity['City']:\n",
    "        x[(i, j)] = LpVariable(f\"x_{i}_{j}\", lowBound=0, cat='Continuous')\n",
    "\n",
    "#Define y_ik (hub to center)\n",
    "for i in hub_capacity['City']:\n",
    "    for k in demand['City']:\n",
    "        y[(i, k)] = LpVariable(f\"y_{i}_{k}\", lowBound=0, cat='Continuous')\n",
    "\n",
    "#Define z_jk (focus city to center)\n",
    "for j in focus_capacity['City']:\n",
    "    for k in demand['City']:\n",
    "        z[(j, k)] = LpVariable(f\"z_{j}_{k}\", lowBound=0, cat='Continuous')"
   ]
  },
  {
   "cell_type": "code",
   "execution_count": 13,
   "id": "ddaee19b-ca8a-4cd9-8cb9-2d844a7800d9",
   "metadata": {},
   "outputs": [],
   "source": [
    "#Objective Function\n",
    "objective = 0"
   ]
  },
  {
   "cell_type": "code",
   "execution_count": 14,
   "id": "fa4170d5-7f25-4847-9ab1-8934066a4ead",
   "metadata": {},
   "outputs": [],
   "source": [
    "# Costs for x_ij (hub to focus city)\n",
    "for i in hub_capacity['City']:\n",
    "    for j in focus_capacity['City']:\n",
    "        cost = focus_cost.loc[focus_cost['City'] == j, i].values[0]\n",
    "        if isinstance(cost, (int, float)):\n",
    "            objective += cost * x[(i, j)]\n",
    "\n",
    "# Costs for y_ik (hub to center)\n",
    "for i in hub_capacity['City']:\n",
    "    for k in demand['City']:\n",
    "        cost = center_cost.loc[center_cost['City'] == k, i].values[0]\n",
    "        if isinstance(cost, (int, float)):\n",
    "            objective += cost * y[(i, k)]\n",
    "\n",
    "# Costs for z_jk (focus city to center)\n",
    "for j in focus_capacity['City']:\n",
    "    for k in demand['City']:\n",
    "        cost = center_cost.loc[center_cost['City'] == k, j].values[0]\n",
    "        if isinstance(cost, (int, float)):\n",
    "            objective += cost * z[(j, k)]"
   ]
  },
  {
   "cell_type": "code",
   "execution_count": 15,
   "id": "cdfeaac9-ce97-45ec-ae38-50272e58c385",
   "metadata": {},
   "outputs": [],
   "source": [
    "#minimize cost\n",
    "prob += objective"
   ]
  },
  {
   "cell_type": "code",
   "execution_count": 16,
   "id": "aeae8c78-5e2f-4235-bb50-19a3ca267ab4",
   "metadata": {},
   "outputs": [
    {
     "name": "stdout",
     "output_type": "stream",
     "text": [
      "Objective Function (linear expression): 3.0*x_AFW_Hyderabad + 3.0*x_AFW_Leipzig + 0.5*x_AFW_San_Bernardino + 3.0*x_CVG_Hyderabad + 1.5*x_CVG_Leipzig + 0.5*x_CVG_San_Bernardino + 0.5*y_AFW_albuquerque + 0.5*y_AFW_allentown + y_AFW_anchorage + 0.5*y_AFW_atlanta + 0.25*y_AFW_austin + 0.5*y_AFW_baltimore + 3.0*y_AFW_barcelona + 3.0*y_AFW_bengaluru + 3.0*y_AFW_cagliari + 3.0*y_AFW_castle_donington + 3.0*y_AFW_catania + 0.5*y_AFW_charlotte + 0.5*y_AFW_chicago + 3.0*y_AFW_coimbatore + 3.0*y_AFW_cologne + 3.0*y_AFW_dallas + 3.0*y_AFW_delhi + 0.5*y_AFW_denver + 0.5*y_AFW_des_moines + y_AFW_fairbanks + 0.5*y_AFW_fort_wayne + 3.0*y_AFW_hanover + 0.5*y_AFW_hartford + 0.5*y_AFW_honolulu + 0.25*y_AFW_houston + 0.5*y_AFW_kahului_maui + 0.5*y_AFW_kansas_city + 3.0*y_AFW_katowice + 0.5*y_AFW_kona + 0.5*y_AFW_lakeland + 3.0*y_AFW_london + 0.5*y_AFW_los_angeles + 3.0*y_AFW_madrid + 0.5*y_AFW_manchester + 0.5*y_AFW_miami + 3.0*y_AFW_milan + 0.5*y_AFW_minneapolis + 0.5*y_AFW_mobile + 3.0*y_AFW_mumbai + 0.5*y_AFW_nashville + 0.5*y_AFW_new_orleans + 0.5*y_AFW_new_york + 0.5*y_AFW_omaha + 0.5*y_AFW_ontario + 3.0*y_AFW_paris + 0.5*y_AFW_phoenix + 0.5*y_AFW_pittsburgh + 0.5*y_AFW_portland + 0.5*y_AFW_richmond + 0.5*y_AFW_riverside + 3.0*y_AFW_rome + 0.5*y_AFW_sacramento + 0.25*y_AFW_san_antonio + 0.5*y_AFW_san_francisco + 0.5*y_AFW_san_juan + 0.5*y_AFW_seattle_tacoma + 0.5*y_AFW_south_bend + 0.5*y_AFW_spokane + 0.5*y_AFW_st._louis + 0.5*y_AFW_stockton + 0.5*y_AFW_tampa + 0.5*y_AFW_toledo + 0.5*y_AFW_wichita + 0.5*y_AFW_wilmington + 0.5*y_CVG_albuquerque + 0.5*y_CVG_allentown + 1.3*y_CVG_anchorage + 0.5*y_CVG_atlanta + 0.5*y_CVG_austin + 0.5*y_CVG_baltimore + 1.5*y_CVG_barcelona + 3.0*y_CVG_bengaluru + 1.5*y_CVG_cagliari + 1.4*y_CVG_castle_donington + 1.5*y_CVG_catania + 0.5*y_CVG_charlotte + 0.5*y_CVG_chicago + 3.0*y_CVG_coimbatore + 1.5*y_CVG_cologne + 0.5*y_CVG_dallas + 3.0*y_CVG_delhi + 0.5*y_CVG_denver + 0.5*y_CVG_des_moines + 1.4*y_CVG_fairbanks + 0.5*y_CVG_fort_wayne + 1.5*y_CVG_hanover + 0.5*y_CVG_hartford + 3.0*y_CVG_honolulu + 0.5*y_CVG_houston + 3.0*y_CVG_kahului_maui + 0.5*y_CVG_kansas_city + 1.4*y_CVG_katowice + 3.0*y_CVG_kona + 0.5*y_CVG_lakeland + 1.6*y_CVG_london + 0.5*y_CVG_los_angeles + 1.6*y_CVG_madrid + 0.5*y_CVG_manchester + 0.5*y_CVG_miami + 1.5*y_CVG_milan + 0.5*y_CVG_minneapolis + 0.5*y_CVG_mobile + 3.0*y_CVG_mumbai + 0.5*y_CVG_nashville + 0.5*y_CVG_new_orleans + 0.5*y_CVG_new_york + 0.5*y_CVG_omaha + 0.5*y_CVG_ontario + 1.6*y_CVG_paris + 0.5*y_CVG_phoenix + 0.5*y_CVG_pittsburgh + 0.5*y_CVG_portland + 0.5*y_CVG_richmond + 0.5*y_CVG_riverside + 1.5*y_CVG_rome + 0.5*y_CVG_sacramento + 0.5*y_CVG_san_antonio + 0.5*y_CVG_san_francisco + 0.5*y_CVG_san_juan + 0.5*y_CVG_seattle_tacoma + 0.5*y_CVG_south_bend + 0.5*y_CVG_spokane + 0.5*y_CVG_st._louis + 0.5*y_CVG_stockton + 0.5*y_CVG_tampa + 0.5*y_CVG_toledo + 0.5*y_CVG_wichita + 0.5*y_CVG_wilmington + 3.0*z_Hyderabad_albuquerque + 3.0*z_Hyderabad_allentown + 3.0*z_Hyderabad_anchorage + 3.0*z_Hyderabad_atlanta + 3.0*z_Hyderabad_austin + 3.0*z_Hyderabad_baltimore + z_Hyderabad_barcelona + 0.5*z_Hyderabad_bengaluru + z_Hyderabad_cagliari + 3.0*z_Hyderabad_castle_donington + z_Hyderabad_catania + 3.0*z_Hyderabad_charlotte + 3.0*z_Hyderabad_chicago + 0.5*z_Hyderabad_coimbatore + z_Hyderabad_cologne + 3.0*z_Hyderabad_dallas + 0.5*z_Hyderabad_delhi + 3.0*z_Hyderabad_denver + 3.0*z_Hyderabad_des_moines + 3.0*z_Hyderabad_fairbanks + 3.0*z_Hyderabad_fort_wayne + z_Hyderabad_hanover + 3.0*z_Hyderabad_hartford + 3.0*z_Hyderabad_honolulu + 3.0*z_Hyderabad_houston + 3.0*z_Hyderabad_kahului_maui + 3.0*z_Hyderabad_kansas_city + z_Hyderabad_katowice + 3.0*z_Hyderabad_kona + 3.0*z_Hyderabad_lakeland + 1.1*z_Hyderabad_london + 3.0*z_Hyderabad_los_angeles + 1.1*z_Hyderabad_madrid + 3.0*z_Hyderabad_manchester + 3.0*z_Hyderabad_miami + z_Hyderabad_milan + 3.0*z_Hyderabad_minneapolis + 3.0*z_Hyderabad_mobile + 0.5*z_Hyderabad_mumbai + 3.0*z_Hyderabad_nashville + 3.0*z_Hyderabad_new_orleans + 3.0*z_Hyderabad_new_york + 3.0*z_Hyderabad_omaha + 3.0*z_Hyderabad_ontario + 1.1*z_Hyderabad_paris + 3.0*z_Hyderabad_phoenix + 3.0*z_Hyderabad_pittsburgh + 3.0*z_Hyderabad_portland + 3.0*z_Hyderabad_richmond + 3.0*z_Hyderabad_riverside + 1.1*z_Hyderabad_rome + 3.0*z_Hyderabad_sacramento + 3.0*z_Hyderabad_san_antonio + 3.0*z_Hyderabad_san_francisco + 3.0*z_Hyderabad_san_juan + 3.0*z_Hyderabad_seattle_tacoma + 3.0*z_Hyderabad_south_bend + 3.0*z_Hyderabad_spokane + 3.0*z_Hyderabad_st._louis + 3.0*z_Hyderabad_stockton + 3.0*z_Hyderabad_tampa + 3.0*z_Hyderabad_toledo + 3.0*z_Hyderabad_wichita + 3.0*z_Hyderabad_wilmington + 3.0*z_Leipzig_albuquerque + 1.5*z_Leipzig_allentown + 3.0*z_Leipzig_anchorage + 3.0*z_Leipzig_atlanta + 3.0*z_Leipzig_austin + 1.5*z_Leipzig_baltimore + 0.5*z_Leipzig_barcelona + 1.5*z_Leipzig_bengaluru + 0.5*z_Leipzig_cagliari + 0.5*z_Leipzig_castle_donington + 0.5*z_Leipzig_catania + 3.0*z_Leipzig_charlotte + 3.0*z_Leipzig_chicago + 1.5*z_Leipzig_coimbatore + 0.5*z_Leipzig_cologne + 3.0*z_Leipzig_dallas + 1.5*z_Leipzig_delhi + 3.0*z_Leipzig_denver + 3.0*z_Leipzig_des_moines + 3.0*z_Leipzig_fairbanks + 3.0*z_Leipzig_fort_wayne + 0.5*z_Leipzig_hanover + 1.5*z_Leipzig_hartford + 3.0*z_Leipzig_honolulu + 3.0*z_Leipzig_houston + 3.0*z_Leipzig_kahului_maui + 3.0*z_Leipzig_kansas_city + 0.5*z_Leipzig_katowice + 3.0*z_Leipzig_kona + 3.0*z_Leipzig_lakeland + 0.75*z_Leipzig_london + 3.0*z_Leipzig_los_angeles + 0.5*z_Leipzig_madrid + 1.5*z_Leipzig_manchester + 3.0*z_Leipzig_miami + 0.5*z_Leipzig_milan + 3.0*z_Leipzig_minneapolis + 3.0*z_Leipzig_mobile + 1.5*z_Leipzig_mumbai + 3.0*z_Leipzig_nashville + 3.0*z_Leipzig_new_orleans + 1.6*z_Leipzig_new_york + 3.0*z_Leipzig_omaha + 3.0*z_Leipzig_ontario + 0.5*z_Leipzig_paris + 3.0*z_Leipzig_phoenix + 3.0*z_Leipzig_pittsburgh + 3.0*z_Leipzig_portland + 3.0*z_Leipzig_richmond + 3.0*z_Leipzig_riverside + 0.5*z_Leipzig_rome + 3.0*z_Leipzig_sacramento + 3.0*z_Leipzig_san_antonio + 3.0*z_Leipzig_san_francisco + 3.0*z_Leipzig_san_juan + 3.0*z_Leipzig_seattle_tacoma + 3.0*z_Leipzig_south_bend + 3.0*z_Leipzig_spokane + 3.0*z_Leipzig_st._louis + 3.0*z_Leipzig_stockton + 3.0*z_Leipzig_tampa + 3.0*z_Leipzig_toledo + 3.0*z_Leipzig_wichita + 3.0*z_Leipzig_wilmington + 0.5*z_San_Bernardino_albuquerque + 0.7*z_San_Bernardino_allentown + 0.7*z_San_Bernardino_anchorage + 0.6*z_San_Bernardino_atlanta + 0.5*z_San_Bernardino_austin + 0.7*z_San_Bernardino_baltimore + 3.0*z_San_Bernardino_barcelona + 3.0*z_San_Bernardino_bengaluru + 3.0*z_San_Bernardino_cagliari + 3.0*z_San_Bernardino_castle_donington + 3.0*z_San_Bernardino_catania + 0.7*z_San_Bernardino_charlotte + 0.5*z_San_Bernardino_chicago + 3.0*z_San_Bernardino_coimbatore + 3.0*z_San_Bernardino_cologne + 0.5*z_San_Bernardino_dallas + 3.0*z_San_Bernardino_delhi + 0.5*z_San_Bernardino_denver + 0.5*z_San_Bernardino_des_moines + 0.7*z_San_Bernardino_fairbanks + 0.5*z_San_Bernardino_fort_wayne + 3.0*z_San_Bernardino_hanover + 0.5*z_San_Bernardino_hartford + 0.5*z_San_Bernardino_honolulu + 0.5*z_San_Bernardino_houston + 0.5*z_San_Bernardino_kahului_maui + 0.5*z_San_Bernardino_kansas_city + 3.0*z_San_Bernardino_katowice + 0.5*z_San_Bernardino_kona + 0.7*z_San_Bernardino_lakeland + 3.0*z_San_Bernardino_london + 3.0*z_San_Bernardino_los_angeles + 3.0*z_San_Bernardino_madrid + 0.7*z_San_Bernardino_manchester + 0.7*z_San_Bernardino_miami + 3.0*z_San_Bernardino_milan + 0.5*z_San_Bernardino_minneapolis + 0.5*z_San_Bernardino_mobile + 3.0*z_San_Bernardino_mumbai + 0.5*z_San_Bernardino_nashville + 0.5*z_San_Bernardino_new_orleans + 0.7*z_San_Bernardino_new_york + 0.5*z_San_Bernardino_omaha + 3.0*z_San_Bernardino_ontario + 3.0*z_San_Bernardino_paris + 0.5*z_San_Bernardino_phoenix + 0.6*z_San_Bernardino_pittsburgh + 0.5*z_San_Bernardino_portland + 0.7*z_San_Bernardino_richmond + 3.0*z_San_Bernardino_riverside + 3.0*z_San_Bernardino_rome + 0.5*z_San_Bernardino_sacramento + 0.5*z_San_Bernardino_san_antonio + 0.5*z_San_Bernardino_san_francisco + z_San_Bernardino_san_juan + 0.5*z_San_Bernardino_seattle_tacoma + 0.5*z_San_Bernardino_south_bend + 0.5*z_San_Bernardino_spokane + 0.5*z_San_Bernardino_st._louis + 0.5*z_San_Bernardino_stockton + 0.7*z_San_Bernardino_tampa + 0.5*z_San_Bernardino_toledo + 0.5*z_San_Bernardino_wichita + 0.7*z_San_Bernardino_wilmington\n"
     ]
    }
   ],
   "source": [
    "# Print the objective function expression\n",
    "print(f\"Objective Function (linear expression): {prob.objective}\")"
   ]
  },
  {
   "cell_type": "code",
   "execution_count": 17,
   "id": "3cba90bc-1112-4a20-a5a6-43f642fac45f",
   "metadata": {},
   "outputs": [
    {
     "name": "stdout",
     "output_type": "stream",
     "text": [
      "List of Constraints:\n",
      "Hub_CVG_Capacity_Constraint: x_CVG_Hyderabad + x_CVG_Leipzig + x_CVG_San_Bernardino + y_CVG_albuquerque + y_CVG_allentown + y_CVG_anchorage + y_CVG_atlanta + y_CVG_austin + y_CVG_baltimore + y_CVG_barcelona + y_CVG_bengaluru + y_CVG_cagliari + y_CVG_castle_donington + y_CVG_catania + y_CVG_charlotte + y_CVG_chicago + y_CVG_coimbatore + y_CVG_cologne + y_CVG_dallas + y_CVG_delhi + y_CVG_denver + y_CVG_des_moines + y_CVG_fairbanks + y_CVG_fort_wayne + y_CVG_hanover + y_CVG_hartford + y_CVG_honolulu + y_CVG_houston + y_CVG_kahului_maui + y_CVG_kansas_city + y_CVG_katowice + y_CVG_kona + y_CVG_lakeland + y_CVG_london + y_CVG_los_angeles + y_CVG_madrid + y_CVG_manchester + y_CVG_miami + y_CVG_milan + y_CVG_minneapolis + y_CVG_mobile + y_CVG_mumbai + y_CVG_nashville + y_CVG_new_orleans + y_CVG_new_york + y_CVG_omaha + y_CVG_ontario + y_CVG_paris + y_CVG_phoenix + y_CVG_pittsburgh + y_CVG_portland + y_CVG_richmond + y_CVG_riverside + y_CVG_rome + y_CVG_sacramento + y_CVG_san_antonio + y_CVG_san_francisco + y_CVG_san_juan + y_CVG_seattle_tacoma + y_CVG_south_bend + y_CVG_spokane + y_CVG_st._louis + y_CVG_stockton + y_CVG_tampa + y_CVG_toledo + y_CVG_wichita + y_CVG_wilmington <= 95650.0\n",
      "Hub_AFW_Capacity_Constraint: x_AFW_Hyderabad + x_AFW_Leipzig + x_AFW_San_Bernardino + y_AFW_albuquerque + y_AFW_allentown + y_AFW_anchorage + y_AFW_atlanta + y_AFW_austin + y_AFW_baltimore + y_AFW_barcelona + y_AFW_bengaluru + y_AFW_cagliari + y_AFW_castle_donington + y_AFW_catania + y_AFW_charlotte + y_AFW_chicago + y_AFW_coimbatore + y_AFW_cologne + y_AFW_dallas + y_AFW_delhi + y_AFW_denver + y_AFW_des_moines + y_AFW_fairbanks + y_AFW_fort_wayne + y_AFW_hanover + y_AFW_hartford + y_AFW_honolulu + y_AFW_houston + y_AFW_kahului_maui + y_AFW_kansas_city + y_AFW_katowice + y_AFW_kona + y_AFW_lakeland + y_AFW_london + y_AFW_los_angeles + y_AFW_madrid + y_AFW_manchester + y_AFW_miami + y_AFW_milan + y_AFW_minneapolis + y_AFW_mobile + y_AFW_mumbai + y_AFW_nashville + y_AFW_new_orleans + y_AFW_new_york + y_AFW_omaha + y_AFW_ontario + y_AFW_paris + y_AFW_phoenix + y_AFW_pittsburgh + y_AFW_portland + y_AFW_richmond + y_AFW_riverside + y_AFW_rome + y_AFW_sacramento + y_AFW_san_antonio + y_AFW_san_francisco + y_AFW_san_juan + y_AFW_seattle_tacoma + y_AFW_south_bend + y_AFW_spokane + y_AFW_st._louis + y_AFW_stockton + y_AFW_tampa + y_AFW_toledo + y_AFW_wichita + y_AFW_wilmington <= 44350.0\n",
      "Focus_City_Leipzig_Capacity_Constraint: x_AFW_Leipzig + x_CVG_Leipzig <= 85000.0\n",
      "Focus_City_Hyderabad_Capacity_Constraint: x_AFW_Hyderabad + x_CVG_Hyderabad <= 19000.0\n",
      "Focus_City_San_Bernardino_Capacity_Constraint: x_AFW_San_Bernardino + x_CVG_San_Bernardino <= 36000.0\n",
      "Focus_City_Leipzig_Flow_Balance: x_AFW_Leipzig + x_CVG_Leipzig - z_Leipzig_albuquerque - z_Leipzig_allentown - z_Leipzig_anchorage - z_Leipzig_atlanta - z_Leipzig_austin - z_Leipzig_baltimore - z_Leipzig_barcelona - z_Leipzig_bengaluru - z_Leipzig_cagliari - z_Leipzig_castle_donington - z_Leipzig_catania - z_Leipzig_charlotte - z_Leipzig_chicago - z_Leipzig_coimbatore - z_Leipzig_cologne - z_Leipzig_dallas - z_Leipzig_delhi - z_Leipzig_denver - z_Leipzig_des_moines - z_Leipzig_fairbanks - z_Leipzig_fort_wayne - z_Leipzig_hanover - z_Leipzig_hartford - z_Leipzig_honolulu - z_Leipzig_houston - z_Leipzig_kahului_maui - z_Leipzig_kansas_city - z_Leipzig_katowice - z_Leipzig_kona - z_Leipzig_lakeland - z_Leipzig_london - z_Leipzig_los_angeles - z_Leipzig_madrid - z_Leipzig_manchester - z_Leipzig_miami - z_Leipzig_milan - z_Leipzig_minneapolis - z_Leipzig_mobile - z_Leipzig_mumbai - z_Leipzig_nashville - z_Leipzig_new_orleans - z_Leipzig_new_york - z_Leipzig_omaha - z_Leipzig_ontario - z_Leipzig_paris - z_Leipzig_phoenix - z_Leipzig_pittsburgh - z_Leipzig_portland - z_Leipzig_richmond - z_Leipzig_riverside - z_Leipzig_rome - z_Leipzig_sacramento - z_Leipzig_san_antonio - z_Leipzig_san_francisco - z_Leipzig_san_juan - z_Leipzig_seattle_tacoma - z_Leipzig_south_bend - z_Leipzig_spokane - z_Leipzig_st._louis - z_Leipzig_stockton - z_Leipzig_tampa - z_Leipzig_toledo - z_Leipzig_wichita - z_Leipzig_wilmington = -0.0\n",
      "Focus_City_Hyderabad_Flow_Balance: x_AFW_Hyderabad + x_CVG_Hyderabad - z_Hyderabad_albuquerque - z_Hyderabad_allentown - z_Hyderabad_anchorage - z_Hyderabad_atlanta - z_Hyderabad_austin - z_Hyderabad_baltimore - z_Hyderabad_barcelona - z_Hyderabad_bengaluru - z_Hyderabad_cagliari - z_Hyderabad_castle_donington - z_Hyderabad_catania - z_Hyderabad_charlotte - z_Hyderabad_chicago - z_Hyderabad_coimbatore - z_Hyderabad_cologne - z_Hyderabad_dallas - z_Hyderabad_delhi - z_Hyderabad_denver - z_Hyderabad_des_moines - z_Hyderabad_fairbanks - z_Hyderabad_fort_wayne - z_Hyderabad_hanover - z_Hyderabad_hartford - z_Hyderabad_honolulu - z_Hyderabad_houston - z_Hyderabad_kahului_maui - z_Hyderabad_kansas_city - z_Hyderabad_katowice - z_Hyderabad_kona - z_Hyderabad_lakeland - z_Hyderabad_london - z_Hyderabad_los_angeles - z_Hyderabad_madrid - z_Hyderabad_manchester - z_Hyderabad_miami - z_Hyderabad_milan - z_Hyderabad_minneapolis - z_Hyderabad_mobile - z_Hyderabad_mumbai - z_Hyderabad_nashville - z_Hyderabad_new_orleans - z_Hyderabad_new_york - z_Hyderabad_omaha - z_Hyderabad_ontario - z_Hyderabad_paris - z_Hyderabad_phoenix - z_Hyderabad_pittsburgh - z_Hyderabad_portland - z_Hyderabad_richmond - z_Hyderabad_riverside - z_Hyderabad_rome - z_Hyderabad_sacramento - z_Hyderabad_san_antonio - z_Hyderabad_san_francisco - z_Hyderabad_san_juan - z_Hyderabad_seattle_tacoma - z_Hyderabad_south_bend - z_Hyderabad_spokane - z_Hyderabad_st._louis - z_Hyderabad_stockton - z_Hyderabad_tampa - z_Hyderabad_toledo - z_Hyderabad_wichita - z_Hyderabad_wilmington = -0.0\n",
      "Focus_City_San_Bernardino_Flow_Balance: x_AFW_San_Bernardino + x_CVG_San_Bernardino - z_San_Bernardino_albuquerque - z_San_Bernardino_allentown - z_San_Bernardino_anchorage - z_San_Bernardino_atlanta - z_San_Bernardino_austin - z_San_Bernardino_baltimore - z_San_Bernardino_barcelona - z_San_Bernardino_bengaluru - z_San_Bernardino_cagliari - z_San_Bernardino_castle_donington - z_San_Bernardino_catania - z_San_Bernardino_charlotte - z_San_Bernardino_chicago - z_San_Bernardino_coimbatore - z_San_Bernardino_cologne - z_San_Bernardino_dallas - z_San_Bernardino_delhi - z_San_Bernardino_denver - z_San_Bernardino_des_moines - z_San_Bernardino_fairbanks - z_San_Bernardino_fort_wayne - z_San_Bernardino_hanover - z_San_Bernardino_hartford - z_San_Bernardino_honolulu - z_San_Bernardino_houston - z_San_Bernardino_kahului_maui - z_San_Bernardino_kansas_city - z_San_Bernardino_katowice - z_San_Bernardino_kona - z_San_Bernardino_lakeland - z_San_Bernardino_london - z_San_Bernardino_los_angeles - z_San_Bernardino_madrid - z_San_Bernardino_manchester - z_San_Bernardino_miami - z_San_Bernardino_milan - z_San_Bernardino_minneapolis - z_San_Bernardino_mobile - z_San_Bernardino_mumbai - z_San_Bernardino_nashville - z_San_Bernardino_new_orleans - z_San_Bernardino_new_york - z_San_Bernardino_omaha - z_San_Bernardino_ontario - z_San_Bernardino_paris - z_San_Bernardino_phoenix - z_San_Bernardino_pittsburgh - z_San_Bernardino_portland - z_San_Bernardino_richmond - z_San_Bernardino_riverside - z_San_Bernardino_rome - z_San_Bernardino_sacramento - z_San_Bernardino_san_antonio - z_San_Bernardino_san_francisco - z_San_Bernardino_san_juan - z_San_Bernardino_seattle_tacoma - z_San_Bernardino_south_bend - z_San_Bernardino_spokane - z_San_Bernardino_st._louis - z_San_Bernardino_stockton - z_San_Bernardino_tampa - z_San_Bernardino_toledo - z_San_Bernardino_wichita - z_San_Bernardino_wilmington = -0.0\n",
      "Center_paris_Demand_Constraint: y_AFW_paris + y_CVG_paris + z_Hyderabad_paris + z_Leipzig_paris + z_San_Bernardino_paris = 6500.0\n",
      "Center_cologne_Demand_Constraint: y_AFW_cologne + y_CVG_cologne + z_Hyderabad_cologne + z_Leipzig_cologne + z_San_Bernardino_cologne = 640.0\n",
      "Center_hanover_Demand_Constraint: y_AFW_hanover + y_CVG_hanover + z_Hyderabad_hanover + z_Leipzig_hanover + z_San_Bernardino_hanover = 180.0\n",
      "Center_bengaluru_Demand_Constraint: y_AFW_bengaluru + y_CVG_bengaluru + z_Hyderabad_bengaluru + z_Leipzig_bengaluru + z_San_Bernardino_bengaluru = 9100.0\n",
      "Center_coimbatore_Demand_Constraint: y_AFW_coimbatore + y_CVG_coimbatore + z_Hyderabad_coimbatore + z_Leipzig_coimbatore + z_San_Bernardino_coimbatore = 570.0\n",
      "Center_delhi_Demand_Constraint: y_AFW_delhi + y_CVG_delhi + z_Hyderabad_delhi + z_Leipzig_delhi + z_San_Bernardino_delhi = 19000.0\n",
      "Center_mumbai_Demand_Constraint: y_AFW_mumbai + y_CVG_mumbai + z_Hyderabad_mumbai + z_Leipzig_mumbai + z_San_Bernardino_mumbai = 14800.0\n",
      "Center_cagliari_Demand_Constraint: y_AFW_cagliari + y_CVG_cagliari + z_Hyderabad_cagliari + z_Leipzig_cagliari + z_San_Bernardino_cagliari = 90.0\n",
      "Center_catania_Demand_Constraint: y_AFW_catania + y_CVG_catania + z_Hyderabad_catania + z_Leipzig_catania + z_San_Bernardino_catania = 185.0\n",
      "Center_milan_Demand_Constraint: y_AFW_milan + y_CVG_milan + z_Hyderabad_milan + z_Leipzig_milan + z_San_Bernardino_milan = 800.0\n",
      "Center_rome_Demand_Constraint: y_AFW_rome + y_CVG_rome + z_Hyderabad_rome + z_Leipzig_rome + z_San_Bernardino_rome = 1700.0\n",
      "Center_katowice_Demand_Constraint: y_AFW_katowice + y_CVG_katowice + z_Hyderabad_katowice + z_Leipzig_katowice + z_San_Bernardino_katowice = 170.0\n",
      "Center_barcelona_Demand_Constraint: y_AFW_barcelona + y_CVG_barcelona + z_Hyderabad_barcelona + z_Leipzig_barcelona + z_San_Bernardino_barcelona = 2800.0\n",
      "Center_madrid_Demand_Constraint: y_AFW_madrid + y_CVG_madrid + z_Hyderabad_madrid + z_Leipzig_madrid + z_San_Bernardino_madrid = 3700.0\n",
      "Center_castle_donington_Demand_Constraint: y_AFW_castle_donington + y_CVG_castle_donington + z_Hyderabad_castle_donington + z_Leipzig_castle_donington + z_San_Bernardino_castle_donington = 30.0\n",
      "Center_london_Demand_Constraint: y_AFW_london + y_CVG_london + z_Hyderabad_london + z_Leipzig_london + z_San_Bernardino_london = 6700.0\n",
      "Center_mobile_Demand_Constraint: y_AFW_mobile + y_CVG_mobile + z_Hyderabad_mobile + z_Leipzig_mobile + z_San_Bernardino_mobile = 190.0\n",
      "Center_anchorage_Demand_Constraint: y_AFW_anchorage + y_CVG_anchorage + z_Hyderabad_anchorage + z_Leipzig_anchorage + z_San_Bernardino_anchorage = 175.0\n",
      "Center_fairbanks_Demand_Constraint: y_AFW_fairbanks + y_CVG_fairbanks + z_Hyderabad_fairbanks + z_Leipzig_fairbanks + z_San_Bernardino_fairbanks = 38.0\n",
      "Center_phoenix_Demand_Constraint: y_AFW_phoenix + y_CVG_phoenix + z_Hyderabad_phoenix + z_Leipzig_phoenix + z_San_Bernardino_phoenix = 2400.0\n",
      "Center_los_angeles_Demand_Constraint: y_AFW_los_angeles + y_CVG_los_angeles + z_Hyderabad_los_angeles + z_Leipzig_los_angeles + z_San_Bernardino_los_angeles = 7200.0\n",
      "Center_ontario_Demand_Constraint: y_AFW_ontario + y_CVG_ontario + z_Hyderabad_ontario + z_Leipzig_ontario + z_San_Bernardino_ontario = 100.0\n",
      "Center_riverside_Demand_Constraint: y_AFW_riverside + y_CVG_riverside + z_Hyderabad_riverside + z_Leipzig_riverside + z_San_Bernardino_riverside = 1200.0\n",
      "Center_sacramento_Demand_Constraint: y_AFW_sacramento + y_CVG_sacramento + z_Hyderabad_sacramento + z_Leipzig_sacramento + z_San_Bernardino_sacramento = 1100.0\n",
      "Center_san_francisco_Demand_Constraint: y_AFW_san_francisco + y_CVG_san_francisco + z_Hyderabad_san_francisco + z_Leipzig_san_francisco + z_San_Bernardino_san_francisco = 1900.0\n",
      "Center_stockton_Demand_Constraint: y_AFW_stockton + y_CVG_stockton + z_Hyderabad_stockton + z_Leipzig_stockton + z_San_Bernardino_stockton = 240.0\n",
      "Center_denver_Demand_Constraint: y_AFW_denver + y_CVG_denver + z_Hyderabad_denver + z_Leipzig_denver + z_San_Bernardino_denver = 1500.0\n",
      "Center_hartford_Demand_Constraint: y_AFW_hartford + y_CVG_hartford + z_Hyderabad_hartford + z_Leipzig_hartford + z_San_Bernardino_hartford = 540.0\n",
      "Center_miami_Demand_Constraint: y_AFW_miami + y_CVG_miami + z_Hyderabad_miami + z_Leipzig_miami + z_San_Bernardino_miami = 3400.0\n",
      "Center_lakeland_Demand_Constraint: y_AFW_lakeland + y_CVG_lakeland + z_Hyderabad_lakeland + z_Leipzig_lakeland + z_San_Bernardino_lakeland = 185.0\n",
      "Center_tampa_Demand_Constraint: y_AFW_tampa + y_CVG_tampa + z_Hyderabad_tampa + z_Leipzig_tampa + z_San_Bernardino_tampa = 1600.0\n",
      "Center_atlanta_Demand_Constraint: y_AFW_atlanta + y_CVG_atlanta + z_Hyderabad_atlanta + z_Leipzig_atlanta + z_San_Bernardino_atlanta = 3000.0\n",
      "Center_honolulu_Demand_Constraint: y_AFW_honolulu + y_CVG_honolulu + z_Hyderabad_honolulu + z_Leipzig_honolulu + z_San_Bernardino_honolulu = 500.0\n",
      "Center_kahului/maui_Demand_Constraint: y_AFW_kahului_maui + y_CVG_kahului_maui + z_Hyderabad_kahului_maui + z_Leipzig_kahului_maui + z_San_Bernardino_kahului_maui = 16.0\n",
      "Center_kona_Demand_Constraint: y_AFW_kona + y_CVG_kona + z_Hyderabad_kona + z_Leipzig_kona + z_San_Bernardino_kona = 63.0\n",
      "Center_chicago_Demand_Constraint: y_AFW_chicago + y_CVG_chicago + z_Hyderabad_chicago + z_Leipzig_chicago + z_San_Bernardino_chicago = 5100.0\n",
      "Center_fort_wayne_Demand_Constraint: y_AFW_fort_wayne + y_CVG_fort_wayne + z_Hyderabad_fort_wayne + z_Leipzig_fort_wayne + z_San_Bernardino_fort_wayne = 200.0\n",
      "Center_south_bend_Demand_Constraint: y_AFW_south_bend + y_CVG_south_bend + z_Hyderabad_south_bend + z_Leipzig_south_bend + z_San_Bernardino_south_bend = 173.0\n",
      "Center_des_moines_Demand_Constraint: y_AFW_des_moines + y_CVG_des_moines + z_Hyderabad_des_moines + z_Leipzig_des_moines + z_San_Bernardino_des_moines = 300.0\n",
      "Center_wichita_Demand_Constraint: y_AFW_wichita + y_CVG_wichita + z_Hyderabad_wichita + z_Leipzig_wichita + z_San_Bernardino_wichita = 290.0\n",
      "Center_new_orleans_Demand_Constraint: y_AFW_new_orleans + y_CVG_new_orleans + z_Hyderabad_new_orleans + z_Leipzig_new_orleans + z_San_Bernardino_new_orleans = 550.0\n",
      "Center_baltimore_Demand_Constraint: y_AFW_baltimore + y_CVG_baltimore + z_Hyderabad_baltimore + z_Leipzig_baltimore + z_San_Bernardino_baltimore = 1300.0\n",
      "Center_minneapolis_Demand_Constraint: y_AFW_minneapolis + y_CVG_minneapolis + z_Hyderabad_minneapolis + z_Leipzig_minneapolis + z_San_Bernardino_minneapolis = 1700.0\n",
      "Center_kansas_city_Demand_Constraint: y_AFW_kansas_city + y_CVG_kansas_city + z_Hyderabad_kansas_city + z_Leipzig_kansas_city + z_San_Bernardino_kansas_city = 975.0\n",
      "Center_st._louis_Demand_Constraint: y_AFW_st._louis + y_CVG_st._louis + z_Hyderabad_st._louis + z_Leipzig_st._louis + z_San_Bernardino_st._louis = 1200.0\n",
      "Center_omaha_Demand_Constraint: y_AFW_omaha + y_CVG_omaha + z_Hyderabad_omaha + z_Leipzig_omaha + z_San_Bernardino_omaha = 480.0\n",
      "Center_manchester_Demand_Constraint: y_AFW_manchester + y_CVG_manchester + z_Hyderabad_manchester + z_Leipzig_manchester + z_San_Bernardino_manchester = 100.0\n",
      "Center_albuquerque_Demand_Constraint: y_AFW_albuquerque + y_CVG_albuquerque + z_Hyderabad_albuquerque + z_Leipzig_albuquerque + z_San_Bernardino_albuquerque = 450.0\n",
      "Center_new_york_Demand_Constraint: y_AFW_new_york + y_CVG_new_york + z_Hyderabad_new_york + z_Leipzig_new_york + z_San_Bernardino_new_york = 11200.0\n",
      "Center_charlotte_Demand_Constraint: y_AFW_charlotte + y_CVG_charlotte + z_Hyderabad_charlotte + z_Leipzig_charlotte + z_San_Bernardino_charlotte = 900.0\n",
      "Center_toledo_Demand_Constraint: y_AFW_toledo + y_CVG_toledo + z_Hyderabad_toledo + z_Leipzig_toledo + z_San_Bernardino_toledo = 290.0\n",
      "Center_wilmington_Demand_Constraint: y_AFW_wilmington + y_CVG_wilmington + z_Hyderabad_wilmington + z_Leipzig_wilmington + z_San_Bernardino_wilmington = 150.0\n",
      "Center_portland_Demand_Constraint: y_AFW_portland + y_CVG_portland + z_Hyderabad_portland + z_Leipzig_portland + z_San_Bernardino_portland = 1200.0\n",
      "Center_allentown_Demand_Constraint: y_AFW_allentown + y_CVG_allentown + z_Hyderabad_allentown + z_Leipzig_allentown + z_San_Bernardino_allentown = 420.0\n",
      "Center_pittsburgh_Demand_Constraint: y_AFW_pittsburgh + y_CVG_pittsburgh + z_Hyderabad_pittsburgh + z_Leipzig_pittsburgh + z_San_Bernardino_pittsburgh = 1000.0\n",
      "Center_san_juan_Demand_Constraint: y_AFW_san_juan + y_CVG_san_juan + z_Hyderabad_san_juan + z_Leipzig_san_juan + z_San_Bernardino_san_juan = 1100.0\n",
      "Center_nashville_Demand_Constraint: y_AFW_nashville + y_CVG_nashville + z_Hyderabad_nashville + z_Leipzig_nashville + z_San_Bernardino_nashville = 650.0\n",
      "Center_austin_Demand_Constraint: y_AFW_austin + y_CVG_austin + z_Hyderabad_austin + z_Leipzig_austin + z_San_Bernardino_austin = 975.0\n",
      "Center_dallas_Demand_Constraint: y_AFW_dallas + y_CVG_dallas + z_Hyderabad_dallas + z_Leipzig_dallas + z_San_Bernardino_dallas = 3300.0\n",
      "Center_houston_Demand_Constraint: y_AFW_houston + y_CVG_houston + z_Hyderabad_houston + z_Leipzig_houston + z_San_Bernardino_houston = 3300.0\n",
      "Center_san_antonio_Demand_Constraint: y_AFW_san_antonio + y_CVG_san_antonio + z_Hyderabad_san_antonio + z_Leipzig_san_antonio + z_San_Bernardino_san_antonio = 1100.0\n",
      "Center_richmond_Demand_Constraint: y_AFW_richmond + y_CVG_richmond + z_Hyderabad_richmond + z_Leipzig_richmond + z_San_Bernardino_richmond = 600.0\n",
      "Center_seattle/tacoma_Demand_Constraint: y_AFW_seattle_tacoma + y_CVG_seattle_tacoma + z_Hyderabad_seattle_tacoma + z_Leipzig_seattle_tacoma + z_San_Bernardino_seattle_tacoma = 2000.0\n",
      "Center_spokane_Demand_Constraint: y_AFW_spokane + y_CVG_spokane + z_Hyderabad_spokane + z_Leipzig_spokane + z_San_Bernardino_spokane = 260.0\n"
     ]
    }
   ],
   "source": [
    "#ADD CONSTRAINTS\n",
    "# Hub capacity constraint: The total shipment from each hub should not exceed its capacity\n",
    "for i in hub_capacity['City']:\n",
    "    prob += lpSum(x[(i, j)] for j in focus_capacity['City']) + lpSum(y[(i, k)] for k in demand['City']) <= hub_capacity.loc[hub_capacity['City'] == i, 'Capacity'].values[0], f\"Hub_{i}_Capacity_Constraint\"\n",
    "\n",
    "# Focus city capacity constraint: The total shipment into each focus city should not exceed its capacity\n",
    "for j in focus_capacity['City']:\n",
    "    prob += lpSum(x[(i, j)] for i in hub_capacity['City']) <= focus_capacity.loc[focus_capacity['City'] == j, 'Capacity'].values[0], f\"Focus_City_{j}_Capacity_Constraint\"\n",
    "\n",
    "# Flow balance for focus cities: Inflow (x_ij) = Outflow (z_jk)\n",
    "for j in focus_capacity['City']:\n",
    "    prob += lpSum(x[(i, j)] for i in hub_capacity['City']) == lpSum(z[(j, k)] for k in demand['City']), f\"Focus_City_{j}_Flow_Balance\"\n",
    "\n",
    "# Center demand constraint: The total shipments into a center (from hubs and focus cities) should meet the demand\n",
    "for k in demand['City']:\n",
    "    prob += lpSum(y[(i, k)] for i in hub_capacity['City']) + lpSum(z[(j, k)] for j in focus_capacity['City']) == demand.loc[demand['City'] == k, 'Demand'].values[0], f\"Center_{k}_Demand_Constraint\"\n",
    "\n",
    "print(\"List of Constraints:\")\n",
    "for constraint_name, constraint in prob.constraints.items():\n",
    "    print(f\"{constraint_name}: {constraint}\")"
   ]
  },
  {
   "cell_type": "code",
   "execution_count": 18,
   "id": "036b90bc-f90e-4167-a553-8e99d147d242",
   "metadata": {},
   "outputs": [
    {
     "name": "stdout",
     "output_type": "stream",
     "text": [
      "Cost for hub AFW, focus city San Bernardino: 0.5\n",
      "Hub capacity constraint for AFW: 44350\n"
     ]
    }
   ],
   "source": [
    "print(f\"Cost for hub {i}, focus city {j}: {cost}\")\n",
    "print(f\"Hub capacity constraint for {i}: {hub_capacity.loc[hub_capacity['City'] == i, 'Capacity'].values[0]}\")"
   ]
  },
  {
   "cell_type": "code",
   "execution_count": 19,
   "id": "87f69aeb-b196-4680-8eb9-1bbeaba127c8",
   "metadata": {},
   "outputs": [
    {
     "name": "stdout",
     "output_type": "stream",
     "text": [
      "Optimal Solution Found\n",
      "Minimum Distribution Cost: 199390.25\n"
     ]
    }
   ],
   "source": [
    "#Solve the LP problem\n",
    "prob.solve()\n",
    "\n",
    "if LpStatus[prob.status] == \"Optimal\":\n",
    "    print(\"Optimal Solution Found\")\n",
    "    print(f\"Minimum Distribution Cost: {value(prob.objective)}\")\n",
    "else:\n",
    "    print(\"No Optimal Solution Found\")"
   ]
  },
  {
   "cell_type": "code",
   "execution_count": 20,
   "id": "acf8cd90-ad61-4777-bb25-8cbad0661e9e",
   "metadata": {},
   "outputs": [
    {
     "name": "stdout",
     "output_type": "stream",
     "text": [
      "\n",
      "Hub Capacity Usage :\n",
      "CVG used capacity: 95650.0\n",
      "AFW used capacity: 37925.0\n",
      "\n",
      "Focus City Capacity Usage:\n",
      "Leipzig No capacity used\n",
      "Hyderabad No capacity used\n",
      "San Bernardino No capacity used\n"
     ]
    }
   ],
   "source": [
    "if LpStatus[prob.status] == \"Optimal\":\n",
    "    print(\"\\nHub Capacity Usage :\")\n",
    "    for i in hub_capacity['City']:\n",
    "        total_used_capacity = sum(v.varValue for v in prob.variables() if v.name.startswith(f\"x_{i}_\") or v.name.startswith(f\"y_{i}_\"))\n",
    "        if total_used_capacity > 0:\n",
    "            print(f\"{i} used capacity: {total_used_capacity}\")\n",
    "        else:\n",
    "            print(f\"{i}No capacity used\")\n",
    "    \n",
    "    print(\"\\nFocus City Capacity Usage:\")\n",
    "    for j in focus_capacity['City']:\n",
    "        total_used_capacity = sum(v.varValue for v in prob.variables() if v.name.startswith(f\"x_{i}_{j}\"))\n",
    "        if total_used_capacity > 0:\n",
    "            print(f\"{j} used capacity: {total_used_capacity}\")\n",
    "        else:\n",
    "            print(f\"{j} No capacity used\")"
   ]
  },
  {
   "cell_type": "code",
   "execution_count": 22,
   "id": "bb276346-3fd3-4d48-90a4-64b4d42a6a31",
   "metadata": {},
   "outputs": [
    {
     "name": "stdout",
     "output_type": "stream",
     "text": [
      "Hub_CVG_Capacity_Constraint: Slack = -0.0\n",
      "Hub_AFW_Capacity_Constraint: Slack = 6425.0\n",
      "Focus_City_Leipzig_Capacity_Constraint: Slack = 85000.0\n",
      "Focus_City_Hyderabad_Capacity_Constraint: Slack = 19000.0\n",
      "Focus_City_San_Bernardino_Capacity_Constraint: Slack = 36000.0\n",
      "Focus_City_Leipzig_Flow_Balance: Slack = -0.0\n",
      "Focus_City_Hyderabad_Flow_Balance: Slack = -0.0\n",
      "Focus_City_San_Bernardino_Flow_Balance: Slack = -0.0\n",
      "Center_paris_Demand_Constraint: Slack = -0.0\n",
      "Center_cologne_Demand_Constraint: Slack = -0.0\n",
      "Center_hanover_Demand_Constraint: Slack = -0.0\n",
      "Center_bengaluru_Demand_Constraint: Slack = -0.0\n",
      "Center_coimbatore_Demand_Constraint: Slack = -0.0\n",
      "Center_delhi_Demand_Constraint: Slack = -0.0\n",
      "Center_mumbai_Demand_Constraint: Slack = -0.0\n",
      "Center_cagliari_Demand_Constraint: Slack = -0.0\n",
      "Center_catania_Demand_Constraint: Slack = -0.0\n",
      "Center_milan_Demand_Constraint: Slack = -0.0\n",
      "Center_rome_Demand_Constraint: Slack = -0.0\n",
      "Center_katowice_Demand_Constraint: Slack = -0.0\n",
      "Center_barcelona_Demand_Constraint: Slack = -0.0\n",
      "Center_madrid_Demand_Constraint: Slack = -0.0\n",
      "Center_castle_donington_Demand_Constraint: Slack = -0.0\n",
      "Center_london_Demand_Constraint: Slack = -0.0\n",
      "Center_mobile_Demand_Constraint: Slack = -0.0\n",
      "Center_anchorage_Demand_Constraint: Slack = -0.0\n",
      "Center_fairbanks_Demand_Constraint: Slack = -0.0\n",
      "Center_phoenix_Demand_Constraint: Slack = -0.0\n",
      "Center_los_angeles_Demand_Constraint: Slack = -0.0\n",
      "Center_ontario_Demand_Constraint: Slack = -0.0\n",
      "Center_riverside_Demand_Constraint: Slack = -0.0\n",
      "Center_sacramento_Demand_Constraint: Slack = -0.0\n",
      "Center_san_francisco_Demand_Constraint: Slack = -0.0\n",
      "Center_stockton_Demand_Constraint: Slack = -0.0\n",
      "Center_denver_Demand_Constraint: Slack = -0.0\n",
      "Center_hartford_Demand_Constraint: Slack = -0.0\n",
      "Center_miami_Demand_Constraint: Slack = -0.0\n",
      "Center_lakeland_Demand_Constraint: Slack = -0.0\n",
      "Center_tampa_Demand_Constraint: Slack = -0.0\n",
      "Center_atlanta_Demand_Constraint: Slack = -0.0\n",
      "Center_honolulu_Demand_Constraint: Slack = -0.0\n",
      "Center_kahului/maui_Demand_Constraint: Slack = -0.0\n",
      "Center_kona_Demand_Constraint: Slack = -0.0\n",
      "Center_chicago_Demand_Constraint: Slack = -0.0\n",
      "Center_fort_wayne_Demand_Constraint: Slack = -0.0\n",
      "Center_south_bend_Demand_Constraint: Slack = -0.0\n",
      "Center_des_moines_Demand_Constraint: Slack = -0.0\n",
      "Center_wichita_Demand_Constraint: Slack = -0.0\n",
      "Center_new_orleans_Demand_Constraint: Slack = -0.0\n",
      "Center_baltimore_Demand_Constraint: Slack = -0.0\n",
      "Center_minneapolis_Demand_Constraint: Slack = -0.0\n",
      "Center_kansas_city_Demand_Constraint: Slack = -0.0\n",
      "Center_st._louis_Demand_Constraint: Slack = -0.0\n",
      "Center_omaha_Demand_Constraint: Slack = -0.0\n",
      "Center_manchester_Demand_Constraint: Slack = -0.0\n",
      "Center_albuquerque_Demand_Constraint: Slack = -0.0\n",
      "Center_new_york_Demand_Constraint: Slack = -0.0\n",
      "Center_charlotte_Demand_Constraint: Slack = -0.0\n",
      "Center_toledo_Demand_Constraint: Slack = -0.0\n",
      "Center_wilmington_Demand_Constraint: Slack = -0.0\n",
      "Center_portland_Demand_Constraint: Slack = -0.0\n",
      "Center_allentown_Demand_Constraint: Slack = -0.0\n",
      "Center_pittsburgh_Demand_Constraint: Slack = -0.0\n",
      "Center_san_juan_Demand_Constraint: Slack = -0.0\n",
      "Center_nashville_Demand_Constraint: Slack = -0.0\n",
      "Center_austin_Demand_Constraint: Slack = -0.0\n",
      "Center_dallas_Demand_Constraint: Slack = -0.0\n",
      "Center_houston_Demand_Constraint: Slack = -0.0\n",
      "Center_san_antonio_Demand_Constraint: Slack = -0.0\n",
      "Center_richmond_Demand_Constraint: Slack = -0.0\n",
      "Center_seattle/tacoma_Demand_Constraint: Slack = -0.0\n",
      "Center_spokane_Demand_Constraint: Slack = -0.0\n"
     ]
    }
   ],
   "source": [
    "for name, constraint in prob.constraints.items():\n",
    "    print(f\"{name}: Slack = {constraint.slack}\")"
   ]
  }
 ],
 "metadata": {
  "kernelspec": {
   "display_name": "Python [conda env:base] *",
   "language": "python",
   "name": "conda-base-py"
  },
  "language_info": {
   "codemirror_mode": {
    "name": "ipython",
    "version": 3
   },
   "file_extension": ".py",
   "mimetype": "text/x-python",
   "name": "python",
   "nbconvert_exporter": "python",
   "pygments_lexer": "ipython3",
   "version": "3.12.7"
  }
 },
 "nbformat": 4,
 "nbformat_minor": 5
}
